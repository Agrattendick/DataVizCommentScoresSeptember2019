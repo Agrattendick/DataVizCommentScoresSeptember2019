{
 "cells": [
  {
   "cell_type": "markdown",
   "metadata": {},
   "source": [
    "# Dataset Creation\n",
    "The data provided for this DataViz battle is located in its raw form on [this website](https://raw.githubusercontent.com/RedditFormula1/Data/master/commentdata.dat). It must be converted into a useable format. This file will convert the raw data into a dataframe saved to a CSV file."
   ]
  },
  {
   "cell_type": "code",
   "execution_count": 1,
   "metadata": {},
   "outputs": [],
   "source": [
    "# Imports\n",
    "import requests\n",
    "import re\n",
    "import pandas as pd\n",
    "import numpy as np"
   ]
  },
  {
   "cell_type": "code",
   "execution_count": 2,
   "metadata": {},
   "outputs": [],
   "source": [
    "# Request the webpage\n",
    "r = requests.get('https://raw.githubusercontent.com/RedditFormula1/Data/master/commentdata.dat')"
   ]
  },
  {
   "cell_type": "code",
   "execution_count": 3,
   "metadata": {},
   "outputs": [
    {
     "name": "stdout",
     "output_type": "stream",
     "text": [
      "#timestamp, amount of minutes the scores were hidden, 0:15 score, 0:30 score, 0:45 score, 1:00 score, 1:15 score, 1:30 score, 1:45 score, 2:00 score\r\n",
      "1530130824.0, 0, 1, 1, 1, 1, 1, 1, 1, 1\r\n",
      "1530130812.0, 0, 2, 2, 2, 2, 2, 2, 1, 1\r\n",
      "1530130797.0, 0, 1, 2, 2, 3, 3, 3, 3, 3\r\n",
      "1530130892.0, 0, 2, 2, 3, 3, 3, 3, 3, 3\r\n",
      "1530130873.0, 0, 1, 1, 1, 1, 2, 2, 2, 2\r\n",
      "1530130852.0, 0, 1, 1, 1, 1, 0, 0, 0, 0\r\n",
      "1530130851.0, 0, 1, 2, 2, 2, 2, 2, 2, 2\r\n",
      "1530130812.0, 0, 2, 2, 2, 2, 2, 2, 1, 1\r\n",
      "1530130935.0, 0, 2, 2,\n"
     ]
    }
   ],
   "source": [
    "# Verify requests.get worked by printing 500 characters\n",
    "print(r.text[0:500])"
   ]
  },
  {
   "cell_type": "code",
   "execution_count": 4,
   "metadata": {},
   "outputs": [],
   "source": [
    "# Split the text on two characters and turn the string into a list.\n",
    "x = r.text\n",
    "y = re.split(r'[\\r\\n,]',x)"
   ]
  },
  {
   "cell_type": "code",
   "execution_count": 5,
   "metadata": {},
   "outputs": [
    {
     "name": "stdout",
     "output_type": "stream",
     "text": [
      "['#timestamp', ' amount of minutes the scores were hidden', ' 0:15 score', ' 0:30 score', ' 0:45 score', ' 1:00 score', ' 1:15 score', ' 1:30 score', ' 1:45 score', ' 2:00 score']\n"
     ]
    }
   ],
   "source": [
    "# Print first 10 items in the list\n",
    "print(y[0:10])"
   ]
  },
  {
   "cell_type": "code",
   "execution_count": 6,
   "metadata": {},
   "outputs": [],
   "source": [
    "# Because of how the splitting worked, must add one item to the list\n",
    "# Commented out so it doesn't get run aagin by mistake\n",
    "#y.append('nan')"
   ]
  },
  {
   "cell_type": "code",
   "execution_count": 7,
   "metadata": {},
   "outputs": [
    {
     "data": {
      "text/plain": [
       "101020.0"
      ]
     },
     "execution_count": 7,
     "metadata": {},
     "output_type": "execute_result"
    }
   ],
   "source": [
    "# Find the number of rows by dividing length of list by number of columns\n",
    "len(y)/11"
   ]
  },
  {
   "cell_type": "code",
   "execution_count": 8,
   "metadata": {},
   "outputs": [],
   "source": [
    "# Create the dataframe\n",
    "df = pd.DataFrame(np.array(y).reshape(101020, 11), columns = ['#timestamp', 'amount of minutes the scores were hidden',\n",
    "                                                             '0:15 score', '0:30 score', '0:45 score', '1:00 score',\n",
    "                                                             '1:15 score', '1:30 score', '1:45 score', '2:00 score',\n",
    "                                                             'delete this'])\n",
    "# Drop the index and row of empty data (because of splitting),\n",
    "# Reset the index\n",
    "df = df.drop([0])\n",
    "df = df.reset_index()\n",
    "df = df.drop(columns = ['index','delete this'])"
   ]
  },
  {
   "cell_type": "code",
   "execution_count": 9,
   "metadata": {},
   "outputs": [
    {
     "data": {
      "text/html": [
       "<div>\n",
       "<style scoped>\n",
       "    .dataframe tbody tr th:only-of-type {\n",
       "        vertical-align: middle;\n",
       "    }\n",
       "\n",
       "    .dataframe tbody tr th {\n",
       "        vertical-align: top;\n",
       "    }\n",
       "\n",
       "    .dataframe thead th {\n",
       "        text-align: right;\n",
       "    }\n",
       "</style>\n",
       "<table border=\"1\" class=\"dataframe\">\n",
       "  <thead>\n",
       "    <tr style=\"text-align: right;\">\n",
       "      <th></th>\n",
       "      <th>#timestamp</th>\n",
       "      <th>amount of minutes the scores were hidden</th>\n",
       "      <th>0:15 score</th>\n",
       "      <th>0:30 score</th>\n",
       "      <th>0:45 score</th>\n",
       "      <th>1:00 score</th>\n",
       "      <th>1:15 score</th>\n",
       "      <th>1:30 score</th>\n",
       "      <th>1:45 score</th>\n",
       "      <th>2:00 score</th>\n",
       "    </tr>\n",
       "  </thead>\n",
       "  <tbody>\n",
       "    <tr>\n",
       "      <th>0</th>\n",
       "      <td>1530130824.0</td>\n",
       "      <td>0</td>\n",
       "      <td>1</td>\n",
       "      <td>1</td>\n",
       "      <td>1</td>\n",
       "      <td>1</td>\n",
       "      <td>1</td>\n",
       "      <td>1</td>\n",
       "      <td>1</td>\n",
       "      <td>1</td>\n",
       "    </tr>\n",
       "    <tr>\n",
       "      <th>1</th>\n",
       "      <td>1530130812.0</td>\n",
       "      <td>0</td>\n",
       "      <td>2</td>\n",
       "      <td>2</td>\n",
       "      <td>2</td>\n",
       "      <td>2</td>\n",
       "      <td>2</td>\n",
       "      <td>2</td>\n",
       "      <td>1</td>\n",
       "      <td>1</td>\n",
       "    </tr>\n",
       "    <tr>\n",
       "      <th>2</th>\n",
       "      <td>1530130797.0</td>\n",
       "      <td>0</td>\n",
       "      <td>1</td>\n",
       "      <td>2</td>\n",
       "      <td>2</td>\n",
       "      <td>3</td>\n",
       "      <td>3</td>\n",
       "      <td>3</td>\n",
       "      <td>3</td>\n",
       "      <td>3</td>\n",
       "    </tr>\n",
       "    <tr>\n",
       "      <th>3</th>\n",
       "      <td>1530130892.0</td>\n",
       "      <td>0</td>\n",
       "      <td>2</td>\n",
       "      <td>2</td>\n",
       "      <td>3</td>\n",
       "      <td>3</td>\n",
       "      <td>3</td>\n",
       "      <td>3</td>\n",
       "      <td>3</td>\n",
       "      <td>3</td>\n",
       "    </tr>\n",
       "    <tr>\n",
       "      <th>4</th>\n",
       "      <td>1530130873.0</td>\n",
       "      <td>0</td>\n",
       "      <td>1</td>\n",
       "      <td>1</td>\n",
       "      <td>1</td>\n",
       "      <td>1</td>\n",
       "      <td>2</td>\n",
       "      <td>2</td>\n",
       "      <td>2</td>\n",
       "      <td>2</td>\n",
       "    </tr>\n",
       "  </tbody>\n",
       "</table>\n",
       "</div>"
      ],
      "text/plain": [
       "     #timestamp amount of minutes the scores were hidden 0:15 score  \\\n",
       "0  1530130824.0                                        0          1   \n",
       "1  1530130812.0                                        0          2   \n",
       "2  1530130797.0                                        0          1   \n",
       "3  1530130892.0                                        0          2   \n",
       "4  1530130873.0                                        0          1   \n",
       "\n",
       "  0:30 score 0:45 score 1:00 score 1:15 score 1:30 score 1:45 score 2:00 score  \n",
       "0          1          1          1          1          1          1          1  \n",
       "1          2          2          2          2          2          1          1  \n",
       "2          2          2          3          3          3          3          3  \n",
       "3          2          3          3          3          3          3          3  \n",
       "4          1          1          1          2          2          2          2  "
      ]
     },
     "execution_count": 9,
     "metadata": {},
     "output_type": "execute_result"
    }
   ],
   "source": [
    "# Verify it worked\n",
    "df.head()"
   ]
  },
  {
   "cell_type": "code",
   "execution_count": 11,
   "metadata": {},
   "outputs": [],
   "source": [
    "# Save to CSV\n",
    "#df.to_csv('Resources/comment_scores.csv', index = False)"
   ]
  },
  {
   "cell_type": "code",
   "execution_count": null,
   "metadata": {},
   "outputs": [],
   "source": []
  }
 ],
 "metadata": {
  "kernelspec": {
   "display_name": "Python 3",
   "language": "python",
   "name": "python3"
  },
  "language_info": {
   "codemirror_mode": {
    "name": "ipython",
    "version": 3
   },
   "file_extension": ".py",
   "mimetype": "text/x-python",
   "name": "python",
   "nbconvert_exporter": "python",
   "pygments_lexer": "ipython3",
   "version": "3.7.3"
  }
 },
 "nbformat": 4,
 "nbformat_minor": 2
}
